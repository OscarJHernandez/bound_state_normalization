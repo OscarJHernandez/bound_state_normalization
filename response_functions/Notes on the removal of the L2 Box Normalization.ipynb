{
 "cells": [
  {
   "cell_type": "markdown",
   "metadata": {},
   "source": [
    "# Introduction\n",
    "\n",
    "This Notebook walks us through some examples of how the Normalization is removed in order to produce the correctly normalized Response function.\n",
    "\n",
    "Our desired integrals are of the form, $I(f)$ where\n",
    "\n",
    "$I(f) = \\int \\limits_{\\omega_0}^{\\infty} d\\omega \\ f(\\omega) R_{\\hat{O}}(\\omega) = \\sum\\limits_{k \\neq 0} f(\\omega_k) |\\langle f_k |\\hat{O}|0 \\rangle|^2$.\n",
    "\n",
    "Here, $R_{\\hat{O}}(\\omega)$, is the Response function that we would like to extract. Now, in a finite $L2$ basis such as the harmonic oscillator the final states are normalized according the IR limits of the basis. We will denote the $L2$ normalized final states as $| \\ f_k \\rangle$ and $| \\ \\tilde{f}_k \\rangle$ as the states with the correct asymptotic normalization. The relation between these two states will be given as\n",
    "\n",
    "$| \\ f_k \\rangle = \\sqrt{w_k} | \\ \\tilde{f}_k \\rangle$  \n",
    "\n",
    "Since  $\\langle \\ f_k | \\ f_k \\rangle = 1$, then  we have that  \n",
    "\n",
    "$w_k = \\frac{1}{\\langle \\ \\tilde{f}_k | \\ \\tilde{f}_k \\rangle}$.\n",
    "\n",
    "\n",
    "Using these relations, we can now express $I(f)$ as\n",
    "\n",
    "\n",
    "$I(f) = \\int \\limits_{\\omega_0}^{\\infty} d\\omega \\ f(\\omega) R_{\\hat{O}}(\\omega) = \\sum\\limits_{k \\neq 0} w_k \\cdot  f(\\omega_k)\\cdot |\\langle \\tilde{f}_k |\\hat{O}|0 \\rangle|^2$\n",
    "\n",
    "\n",
    "In order to retrieve the Response function $R(\\omega)$ at the points $\\omega_k$ we need to remove the quadrature weight factor $w_k$. In general, this factor can be computed according to the expression\n",
    "\n",
    "$\\frac{dE}{d \\eta}|_{\\eta \\rightarrow k} = w_k$\n",
    "\n",
    "\n",
    "## Procedure\n",
    "\n",
    "To use the above method, we perform the following steps (Works for any quadrature rule):\n",
    "\n",
    "1. Read in the Elements $\\lbrace k,x_k, f(x_k) \\rbrace$  \n",
    "Note: $k$ is just the index that labels the point (k=1,2,..)  \n",
    "2. Spline the points $\\lbrace k,x_k \\rbrace$, so that we have a continuous function $x(\\eta)$, where $x(k)=x_k$.\n",
    "3. Then compute the weight factors $\\ w_k = \\lim\\limits_{\\eta \\rightarrow k}\\frac{dx}{d\\eta}(\\eta)$\n",
    "4. Then calculate the corrected function  $ \\ \\tilde{f}(x_k) = \\frac{f(x_k)}{w_k}$\n",
    "\n",
    "\n",
    "\n"
   ]
  },
  {
   "cell_type": "code",
   "execution_count": null,
   "metadata": {
    "collapsed": true
   },
   "outputs": [],
   "source": [
    "#\n",
    "# First we import Data, broken up into\n",
    "#"
   ]
  }
 ],
 "metadata": {
  "anaconda-cloud": {},
  "kernelspec": {
   "display_name": "Python [default]",
   "language": "python",
   "name": "python3"
  },
  "language_info": {
   "codemirror_mode": {
    "name": "ipython",
    "version": 3
   },
   "file_extension": ".py",
   "mimetype": "text/x-python",
   "name": "python",
   "nbconvert_exporter": "python",
   "pygments_lexer": "ipython3",
   "version": "3.5.2"
  }
 },
 "nbformat": 4,
 "nbformat_minor": 1
}
