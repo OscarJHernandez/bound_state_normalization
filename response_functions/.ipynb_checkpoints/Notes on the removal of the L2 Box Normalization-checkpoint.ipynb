{
 "cells": [
  {
   "cell_type": "markdown",
   "metadata": {},
   "source": [
    "# Introduction\n",
    "\n",
    "This Notebook walks us through some examples of how the Normalization is removed in order to produce the correctly normalized Response function.\n",
    "\n",
    "Our desired integrals are of the form, $I(f)$ where\n",
    "\n",
    "$I(f) = \\int \\limits_{\\omega_0}^{\\infty} d\\omega \\ f(\\omega) R_{\\hat{O}}(\\omega) = \\sum\\limits_{k \\neq 0} f(\\omega_k) |\\langle f_k |\\hat{O}|0 \\rangle|^2$.\n",
    "\n",
    "Here, $R_{\\hat{O}}(\\omega)$, is the Response function that we would like to extract. Now, in a finite $L2$ basis such as the harmonic oscillator the final states are normalized according the IR limits of the basis. We will denote the $L2$ normalized final states as $| \\ f_k \\rangle$ and $| \\ \\tilde{f}_k \\rangle$ as the states with the correct asymptotic normalization. The relation between these two states will be given as\n",
    "\n",
    "$| \\ f_k \\rangle = \\sqrt{w_k} | \\ \\tilde{f}_k \\rangle$  \n",
    "\n",
    "Since  $\\langle \\ f_k | \\ f_k \\rangle = 1$, then  we have that  \n",
    "\n",
    "$w_k = \\frac{1}{\\langle \\ \\tilde{f}_k | \\ \\tilde{f}_k \\rangle}$.\n",
    "\n",
    "\n",
    "Using these relations, we can now express $I(f)$ as\n",
    "\n",
    "\n",
    "$I(f) = \\int \\limits_{\\omega_0}^{\\infty} d\\omega \\ f(\\omega) R_{\\hat{O}}(\\omega) = \\sum\\limits_{k \\neq 0} w_k \\cdot  f(\\omega_k)\\cdot |\\langle \\tilde{f}_k |\\hat{O}|0 \\rangle|^2$\n",
    "\n",
    "\n",
    "In order to retrieve the Response function $R(\\omega)$ at the points $\\omega_k$ we need to remove the quadrature weight factor $w_k$. In general, this factor can be computed according to the expression\n",
    "\n",
    "$\\frac{dE}{d \\eta}|_{\\eta \\rightarrow k} = w_k$\n",
    "\n",
    "\n",
    "## Procedure\n",
    "\n",
    "To use the above method, we perform the following steps (Works for any quadrature rule):\n",
    "\n",
    "1. Read in the Elements $\\lbrace k,x_k, f(x_k) \\rbrace$  \n",
    "Note: $k$ is just the index that labels the point (k=1,2,..)  \n",
    "2. Spline the points $\\lbrace k,x_k \\rbrace$, so that we have a continuous function $x(\\eta)$, where $x(k)=x_k$.\n",
    "3. Then compute the weight factors $\\ w_k = \\lim\\limits_{\\eta \\rightarrow k}\\frac{dx}{d\\eta}(\\eta)$\n",
    "4. Then calculate the corrected function  $ \\ \\tilde{f}(x_k) = \\frac{f(x_k)}{w_k}$\n",
    "\n",
    "\n",
    "### Note\n",
    "In general, the relation for a general quadrature rule \n",
    "\n",
    "$\\int \\limits_{a}^{b} dx \\  \\rho(x) \\ f(x) = \\sum_i f(x_i)w_i $,\n",
    "\n",
    "The derivative of the grid points $x_i$ with respect to $\\eta$ as described above will be\n",
    "\n",
    "$ \\lim\\limits_{\\eta \\rightarrow k}\\frac{dx}{d\\eta}(\\eta) = \\frac{w_k}{\\rho(x_k)}$, however in our cases, $\\rho(x)=1$.\n",
    "\n",
    "Also, the larger the number of grid points, the better of an approximation this becomes.\n",
    "\n"
   ]
  },
  {
   "cell_type": "code",
   "execution_count": null,
   "metadata": {
    "collapsed": false
   },
   "outputs": [],
   "source": [
    "# Example using Gauss-Legendre Quadrature [-1,1]\n",
    "\n",
    "import numpy as np\n",
    "import matplotlib.pyplot as plt\n",
    "from scipy.interpolate import interp1d\n",
    "from sklearn.metrics import r2_score\n",
    "from numpy.polynomial import legendre,chebyshev,laguerre\n",
    "\n",
    "%matplotlib inline\n",
    "\n",
    "Nquad =200\n",
    "Rule = 'leg'\n",
    "\n",
    "if(Rule=='cheb'):\n",
    "    x,w = chebyshev.chebgauss(Nquad)\n",
    "elif(Rule=='lag'):\n",
    "    x,w = laguerre.laggauss(Nquad)\n",
    "elif(Rule=='leg'):\n",
    "    x,w = legendre.leggauss(Nquad)\n",
    "\n",
    "def weight_func(x,Rule):\n",
    "    \n",
    "    if(Rule=='cheb'):\n",
    "        s = 1.0/np.sqrt(1.0-x**2)\n",
    "    elif(Rule=='lag'):\n",
    "        s = np.exp(-x)\n",
    "    elif(Rule=='leg'):\n",
    "        s = 1.0\n",
    "    \n",
    "    return s\n",
    "\n",
    "\n",
    "indx = np.asarray(range(0,Nquad))*1.0\n",
    "\n",
    "# Now we spline the points (indx,x)\n",
    "x_eta = interp1d(indx, x,kind='linear')\n",
    "\n",
    "eta_grid = np.arange(0,Nquad-1,0.05)\n",
    "\n",
    "plt.ylabel('x($\\eta$)',size=20)\n",
    "plt.xlabel('indx',size=20)\n",
    "plt.plot(indx,x,'o',label='$x_i$')\n",
    "plt.plot(eta_grid,x_eta(eta_grid),'-',label='x($\\eta$)')\n",
    "plt.legend( fontsize = 'x-large')\n",
    "plt.plot()\n",
    "\n",
    "\n",
    "print(np.sum(w))"
   ]
  },
  {
   "cell_type": "code",
   "execution_count": null,
   "metadata": {
    "collapsed": false
   },
   "outputs": [],
   "source": [
    "# Example continued\n",
    "\n",
    "# Now we compute w, using the method we mentioned above\n",
    "def derivative(f,x):\n",
    "    eps = 1.0e-10\n",
    "    \n",
    "    d = f(x+eps)-f(x)\n",
    "    d = abs(d/eps)\n",
    "    \n",
    "    return d\n",
    "\n",
    "wk =np.asarray([derivative(x_eta,k)*weight_func(x_eta(k),Rule) for k in range(0,Nquad-1)])\n",
    "\n",
    "\n",
    "#print(w,wk)\n",
    "plt.clf()\n",
    "plt.ylabel('w($\\eta$)',size=20)\n",
    "plt.xlabel('k',size=20)\n",
    "plt.plot(wk,'o',label='w$_k(\\eta)$')\n",
    "plt.plot(w,'o',label='w$_k$')\n",
    "plt.legend( fontsize = 'x-large')\n",
    "plt.plot()\n",
    "\n",
    "print('R2-Score: ',r2_score(w[0:-1],wk))"
   ]
  },
  {
   "cell_type": "markdown",
   "metadata": {
    "collapsed": true
   },
   "source": [
    "## Example with Deuteron Response Functions"
   ]
  },
  {
   "cell_type": "code",
   "execution_count": null,
   "metadata": {
    "collapsed": false
   },
   "outputs": [],
   "source": [
    "\n",
    "import L2Norm as l2n\n",
    "import numpy as np\n",
    "import matplotlib.pyplot as plt\n",
    "\n",
    "%matplotlib inline\n",
    "\n",
    "fName = 'Response_M1_1S0_Nmax100_hw8.txt'\n",
    "w_data = np.loadtxt(fName, skiprows=1,usecols=(2), unpack=True)\n",
    "\n",
    "\n",
    "# Create the Response function object\n",
    "R_M1_hw8 = l2n.ResponseFunction(fName)\n",
    "E,R_L2_hw8 = R_M1_hw8.scattering_Response()\n",
    "\n",
    "# Plot the Results\n",
    "plt.plot(E, E*R_L2_hw8,'-o')\n",
    "plt.xlim(0.0,30)"
   ]
  },
  {
   "cell_type": "code",
   "execution_count": null,
   "metadata": {
    "collapsed": false
   },
   "outputs": [],
   "source": [
    "# Now we combine several Response functions together\n",
    "\n",
    "\n",
    "fName1 = 'Response_M1_1S0_Nmax300_hw8.txt'\n",
    "fName2 = 'Response_M1_1S0_Nmax300_hw10.txt'\n",
    "fName3 = 'Response_M1_1S0_Nmax300_hw15.txt'\n",
    "fName4 = 'Response_M1_1S0_Nmax300_hw20.txt'\n",
    "\n",
    "R_M1_N300_hw8= l2n.ResponseFunction(fName1)\n",
    "R_M1_N300_hw10 = l2n.ResponseFunction(fName2)\n",
    "R_M1_N300_hw15 = l2n.ResponseFunction(fName3)\n",
    "R_M1_N300_hw20 = l2n.ResponseFunction(fName4)\n",
    "\n",
    "R_vec =[R_M1_N300_hw8,R_M1_N300_hw10,R_M1_N300_hw15,R_M1_N300_hw20]\n",
    "\n",
    "E_1,R_L2_N300_hw8 = R_M1_N300_hw8.scattering_Response()\n",
    "E_2,R_L2_N300_hw10 = R_M1_N300_hw10.scattering_Response()\n",
    "E_3,R_L2_N300_hw15 = R_M1_N300_hw15.scattering_Response()\n",
    "\n",
    "x_new,y_new = l2n.ResponseFunction.combine_Response_functions(R_vec)\n",
    "\n",
    "plt.plot(x_new,x_new*y_new,'-o')\n",
    "plt.plot(E_1,E_1*R_L2_N300_hw8,'o')\n",
    "plt.plot(E_2,E_2*R_L2_N300_hw10,'o')\n",
    "plt.plot(E_3,E_3*R_L2_N300_hw15,'o')\n",
    "plt.xlim(0.0,10)"
   ]
  },
  {
   "cell_type": "code",
   "execution_count": null,
   "metadata": {
    "collapsed": true
   },
   "outputs": [],
   "source": []
  }
 ],
 "metadata": {
  "anaconda-cloud": {},
  "kernelspec": {
   "display_name": "Python [default]",
   "language": "python",
   "name": "python3"
  },
  "language_info": {
   "codemirror_mode": {
    "name": "ipython",
    "version": 3
   },
   "file_extension": ".py",
   "mimetype": "text/x-python",
   "name": "python",
   "nbconvert_exporter": "python",
   "pygments_lexer": "ipython3",
   "version": "3.5.2"
  }
 },
 "nbformat": 4,
 "nbformat_minor": 1
}
